{
 "cells": [
  {
   "cell_type": "code",
   "execution_count": null,
   "id": "f8a0b98e",
   "metadata": {},
   "outputs": [],
   "source": [
    "import pandas as pd"
   ]
  },
  {
   "cell_type": "code",
   "execution_count": null,
   "id": "6cb539db",
   "metadata": {},
   "outputs": [],
   "source": [
    "df = pd.read_csv('live_video_infos.csv',index_col=0)"
   ]
  },
  {
   "cell_type": "code",
   "execution_count": 5,
   "id": "acba57b3",
   "metadata": {},
   "outputs": [
    {
     "data": {
      "text/plain": [
       "0     https://www.youtube.com/watch?v=JgymlSxArd4\n",
       "1     https://www.youtube.com/watch?v=6JnfeaSS358\n",
       "2     https://www.youtube.com/watch?v=JvEpbiKbE78\n",
       "3     https://www.youtube.com/watch?v=cpZBVx7MB28\n",
       "4     https://www.youtube.com/watch?v=3WeOfpUXwvk\n",
       "5     https://www.youtube.com/watch?v=zN30FwsTRkI\n",
       "6     https://www.youtube.com/watch?v=EBoWgzqRu98\n",
       "7     https://www.youtube.com/watch?v=5k6gIUMOT4w\n",
       "8     https://www.youtube.com/watch?v=-O3t_TzePbE\n",
       "9     https://www.youtube.com/watch?v=2SGHZeTIRxI\n",
       "10    https://www.youtube.com/watch?v=3pCH45EeSn0\n",
       "Name: url, dtype: object"
      ]
     },
     "execution_count": 5,
     "metadata": {},
     "output_type": "execute_result"
    }
   ],
   "source": [
    "df[df.index<=10].url"
   ]
  }
 ],
 "metadata": {
  "kernelspec": {
   "display_name": "base",
   "language": "python",
   "name": "python3"
  },
  "language_info": {
   "codemirror_mode": {
    "name": "ipython",
    "version": 3
   },
   "file_extension": ".py",
   "mimetype": "text/x-python",
   "name": "python",
   "nbconvert_exporter": "python",
   "pygments_lexer": "ipython3",
   "version": "3.12.3"
  }
 },
 "nbformat": 4,
 "nbformat_minor": 5
}
