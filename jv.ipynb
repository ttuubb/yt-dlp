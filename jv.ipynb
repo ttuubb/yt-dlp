{
 "cells": [
  {
   "cell_type": "code",
   "execution_count": null,
   "id": "f8a0b98e",
   "metadata": {},
   "outputs": [],
   "source": [
    "import pandas as pd"
   ]
  },
  {
   "cell_type": "code",
   "execution_count": 16,
   "id": "6cb539db",
   "metadata": {},
   "outputs": [
    {
     "data": {
      "text/html": [
       "<div>\n",
       "<style scoped>\n",
       "    .dataframe tbody tr th:only-of-type {\n",
       "        vertical-align: middle;\n",
       "    }\n",
       "\n",
       "    .dataframe tbody tr th {\n",
       "        vertical-align: top;\n",
       "    }\n",
       "\n",
       "    .dataframe thead th {\n",
       "        text-align: right;\n",
       "    }\n",
       "</style>\n",
       "<table border=\"1\" class=\"dataframe\">\n",
       "  <thead>\n",
       "    <tr style=\"text-align: right;\">\n",
       "      <th></th>\n",
       "      <th>url</th>\n",
       "      <th>title</th>\n",
       "      <th>upload_date</th>\n",
       "    </tr>\n",
       "  </thead>\n",
       "  <tbody>\n",
       "    <tr>\n",
       "      <th>0</th>\n",
       "      <td>https://www.youtube.com/watch?v=JgymlSxArd4</td>\n",
       "      <td>20250701直播：马斯克再次叫板川普；小组治囯合并升级‘军机处’，习近平再次警告全党；党...</td>\n",
       "      <td>NaN</td>\n",
       "    </tr>\n",
       "    <tr>\n",
       "      <th>1</th>\n",
       "      <td>https://www.youtube.com/watch?v=6JnfeaSS358</td>\n",
       "      <td>20250630直播：蔡澜不是我的菜；俄罗斯创纪录空袭乌克兰；川普再变：7月9日大限不会延长...</td>\n",
       "      <td>NaN</td>\n",
       "    </tr>\n",
       "    <tr>\n",
       "      <th>2</th>\n",
       "      <td>https://www.youtube.com/watch?v=JvEpbiKbE78</td>\n",
       "      <td>20250629直播：以色列还在找哈梅内伊；重大胜利？美最高法院到底判了些什么；为什么双方都...</td>\n",
       "      <td>NaN</td>\n",
       "    </tr>\n",
       "    <tr>\n",
       "      <th>3</th>\n",
       "      <td>https://www.youtube.com/watch?v=cpZBVx7MB28</td>\n",
       "      <td>20250627直播：俄罗斯夏季攻势失败；面子抵不过证据：伊朗浓缩铀依然存在；川普突宣和中国...</td>\n",
       "      <td>NaN</td>\n",
       "    </tr>\n",
       "    <tr>\n",
       "      <th>4</th>\n",
       "      <td>https://www.youtube.com/watch?v=3WeOfpUXwvk</td>\n",
       "      <td>20250626直播：以伊战果大盘点，川普对记者四爆粗口；不让当主宾！习近平赌气不去金砖峰会...</td>\n",
       "      <td>NaN</td>\n",
       "    </tr>\n",
       "  </tbody>\n",
       "</table>\n",
       "</div>"
      ],
      "text/plain": [
       "                                           url  \\\n",
       "0  https://www.youtube.com/watch?v=JgymlSxArd4   \n",
       "1  https://www.youtube.com/watch?v=6JnfeaSS358   \n",
       "2  https://www.youtube.com/watch?v=JvEpbiKbE78   \n",
       "3  https://www.youtube.com/watch?v=cpZBVx7MB28   \n",
       "4  https://www.youtube.com/watch?v=3WeOfpUXwvk   \n",
       "\n",
       "                                               title  upload_date  \n",
       "0  20250701直播：马斯克再次叫板川普；小组治囯合并升级‘军机处’，习近平再次警告全党；党...          NaN  \n",
       "1  20250630直播：蔡澜不是我的菜；俄罗斯创纪录空袭乌克兰；川普再变：7月9日大限不会延长...          NaN  \n",
       "2  20250629直播：以色列还在找哈梅内伊；重大胜利？美最高法院到底判了些什么；为什么双方都...          NaN  \n",
       "3  20250627直播：俄罗斯夏季攻势失败；面子抵不过证据：伊朗浓缩铀依然存在；川普突宣和中国...          NaN  \n",
       "4  20250626直播：以伊战果大盘点，川普对记者四爆粗口；不让当主宾！习近平赌气不去金砖峰会...          NaN  "
      ]
     },
     "execution_count": 16,
     "metadata": {},
     "output_type": "execute_result"
    }
   ],
   "source": [
    "df = pd.read_csv('live_video_infos.csv',index_col=0)\n",
    "df.head()"
   ]
  },
  {
   "cell_type": "code",
   "execution_count": 17,
   "id": "d33cfe01",
   "metadata": {},
   "outputs": [
    {
     "data": {
      "text/plain": [
       "0       https://www.youtube.com/watch?v=JgymlSxArd4\n",
       "1       https://www.youtube.com/watch?v=6JnfeaSS358\n",
       "2       https://www.youtube.com/watch?v=JvEpbiKbE78\n",
       "3       https://www.youtube.com/watch?v=cpZBVx7MB28\n",
       "4       https://www.youtube.com/watch?v=3WeOfpUXwvk\n",
       "                           ...                     \n",
       "5362    https://www.youtube.com/watch?v=Iqn2G9D_Z3s\n",
       "5363    https://www.youtube.com/watch?v=kKSNRpbdclw\n",
       "5364    https://www.youtube.com/watch?v=weWfoXuhOpo\n",
       "5365    https://www.youtube.com/watch?v=jDlgE0Pe5m0\n",
       "5366    https://www.youtube.com/watch?v=ohVSV0v2pFs\n",
       "Name: url, Length: 5367, dtype: object"
      ]
     },
     "execution_count": 17,
     "metadata": {},
     "output_type": "execute_result"
    }
   ],
   "source": [
    "df.url"
   ]
  },
  {
   "cell_type": "code",
   "execution_count": 19,
   "id": "acba57b3",
   "metadata": {},
   "outputs": [
    {
     "data": {
      "text/plain": [
       "0     https://www.youtube.com/watch?v=JgymlSxArd4\n",
       "1     https://www.youtube.com/watch?v=6JnfeaSS358\n",
       "2     https://www.youtube.com/watch?v=JvEpbiKbE78\n",
       "3     https://www.youtube.com/watch?v=cpZBVx7MB28\n",
       "4     https://www.youtube.com/watch?v=3WeOfpUXwvk\n",
       "5     https://www.youtube.com/watch?v=zN30FwsTRkI\n",
       "6     https://www.youtube.com/watch?v=EBoWgzqRu98\n",
       "7     https://www.youtube.com/watch?v=5k6gIUMOT4w\n",
       "8     https://www.youtube.com/watch?v=-O3t_TzePbE\n",
       "9     https://www.youtube.com/watch?v=2SGHZeTIRxI\n",
       "10    https://www.youtube.com/watch?v=3pCH45EeSn0\n",
       "Name: url, dtype: object"
      ]
     },
     "execution_count": 19,
     "metadata": {},
     "output_type": "execute_result"
    }
   ],
   "source": [
    "df[df.index<=10].url"
   ]
  }
 ],
 "metadata": {
  "kernelspec": {
   "display_name": "base",
   "language": "python",
   "name": "python3"
  },
  "language_info": {
   "codemirror_mode": {
    "name": "ipython",
    "version": 3
   },
   "file_extension": ".py",
   "mimetype": "text/x-python",
   "name": "python",
   "nbconvert_exporter": "python",
   "pygments_lexer": "ipython3",
   "version": "3.12.3"
  }
 },
 "nbformat": 4,
 "nbformat_minor": 5
}
