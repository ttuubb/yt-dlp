{
 "cells": [
  {
   "cell_type": "code",
   "execution_count": null,
   "id": "f8a0b98e",
   "metadata": {},
   "outputs": [],
   "source": [
    "import pandas as pd"
   ]
  },
  {
   "cell_type": "code",
   "execution_count": 23,
   "id": "6cb539db",
   "metadata": {},
   "outputs": [],
   "source": [
    "df = pd.read_csv('live_video_infos.csv')"
   ]
  },
  {
   "cell_type": "code",
   "execution_count": 24,
   "id": "f2075903",
   "metadata": {},
   "outputs": [
    {
     "data": {
      "text/html": [
       "<div>\n",
       "<style scoped>\n",
       "    .dataframe tbody tr th:only-of-type {\n",
       "        vertical-align: middle;\n",
       "    }\n",
       "\n",
       "    .dataframe tbody tr th {\n",
       "        vertical-align: top;\n",
       "    }\n",
       "\n",
       "    .dataframe thead th {\n",
       "        text-align: right;\n",
       "    }\n",
       "</style>\n",
       "<table border=\"1\" class=\"dataframe\">\n",
       "  <thead>\n",
       "    <tr style=\"text-align: right;\">\n",
       "      <th></th>\n",
       "      <th>url</th>\n",
       "      <th>title</th>\n",
       "      <th>upload_date</th>\n",
       "    </tr>\n",
       "  </thead>\n",
       "  <tbody>\n",
       "    <tr>\n",
       "      <th>0</th>\n",
       "      <td>https://www.youtube.com/watch?v=JgymlSxArd4</td>\n",
       "      <td>20250701直播：马斯克再次叫板川普；小组治囯合并升级‘军机处’，习近平再次警告全党；党...</td>\n",
       "      <td>NaN</td>\n",
       "    </tr>\n",
       "    <tr>\n",
       "      <th>1</th>\n",
       "      <td>https://www.youtube.com/watch?v=6JnfeaSS358</td>\n",
       "      <td>20250630直播：蔡澜不是我的菜；俄罗斯创纪录空袭乌克兰；川普再变：7月9日大限不会延长...</td>\n",
       "      <td>NaN</td>\n",
       "    </tr>\n",
       "    <tr>\n",
       "      <th>2</th>\n",
       "      <td>https://www.youtube.com/watch?v=JvEpbiKbE78</td>\n",
       "      <td>20250629直播：以色列还在找哈梅内伊；重大胜利？美最高法院到底判了些什么；为什么双方都...</td>\n",
       "      <td>NaN</td>\n",
       "    </tr>\n",
       "    <tr>\n",
       "      <th>3</th>\n",
       "      <td>https://www.youtube.com/watch?v=cpZBVx7MB28</td>\n",
       "      <td>20250627直播：俄罗斯夏季攻势失败；面子抵不过证据：伊朗浓缩铀依然存在；川普突宣和中国...</td>\n",
       "      <td>NaN</td>\n",
       "    </tr>\n",
       "    <tr>\n",
       "      <th>4</th>\n",
       "      <td>https://www.youtube.com/watch?v=3WeOfpUXwvk</td>\n",
       "      <td>20250626直播：以伊战果大盘点，川普对记者四爆粗口；不让当主宾！习近平赌气不去金砖峰会...</td>\n",
       "      <td>NaN</td>\n",
       "    </tr>\n",
       "  </tbody>\n",
       "</table>\n",
       "</div>"
      ],
      "text/plain": [
       "                                           url  \\\n",
       "0  https://www.youtube.com/watch?v=JgymlSxArd4   \n",
       "1  https://www.youtube.com/watch?v=6JnfeaSS358   \n",
       "2  https://www.youtube.com/watch?v=JvEpbiKbE78   \n",
       "3  https://www.youtube.com/watch?v=cpZBVx7MB28   \n",
       "4  https://www.youtube.com/watch?v=3WeOfpUXwvk   \n",
       "\n",
       "                                               title  upload_date  \n",
       "0  20250701直播：马斯克再次叫板川普；小组治囯合并升级‘军机处’，习近平再次警告全党；党...          NaN  \n",
       "1  20250630直播：蔡澜不是我的菜；俄罗斯创纪录空袭乌克兰；川普再变：7月9日大限不会延长...          NaN  \n",
       "2  20250629直播：以色列还在找哈梅内伊；重大胜利？美最高法院到底判了些什么；为什么双方都...          NaN  \n",
       "3  20250627直播：俄罗斯夏季攻势失败；面子抵不过证据：伊朗浓缩铀依然存在；川普突宣和中国...          NaN  \n",
       "4  20250626直播：以伊战果大盘点，川普对记者四爆粗口；不让当主宾！习近平赌气不去金砖峰会...          NaN  "
      ]
     },
     "execution_count": 24,
     "metadata": {},
     "output_type": "execute_result"
    }
   ],
   "source": [
    "df.head()"
   ]
  },
  {
   "cell_type": "code",
   "execution_count": 27,
   "id": "4748ff15",
   "metadata": {},
   "outputs": [
    {
     "name": "stdout",
     "output_type": "stream",
     "text": [
      "https://www.youtube.com/watch?v=JgymlSxArd4\n",
      "https://www.youtube.com/watch?v=6JnfeaSS358\n",
      "https://www.youtube.com/watch?v=JvEpbiKbE78\n",
      "https://www.youtube.com/watch?v=cpZBVx7MB28\n",
      "https://www.youtube.com/watch?v=3WeOfpUXwvk\n",
      "https://www.youtube.com/watch?v=zN30FwsTRkI\n",
      "https://www.youtube.com/watch?v=EBoWgzqRu98\n",
      "https://www.youtube.com/watch?v=5k6gIUMOT4w\n",
      "https://www.youtube.com/watch?v=-O3t_TzePbE\n",
      "https://www.youtube.com/watch?v=2SGHZeTIRxI\n",
      "https://www.youtube.com/watch?v=3pCH45EeSn0\n",
      "https://www.youtube.com/watch?v=o9nKCmlxQwU\n",
      "https://www.youtube.com/watch?v=7w8VScaRwRQ\n",
      "https://www.youtube.com/watch?v=jlQawtxas1U\n",
      "https://www.youtube.com/watch?v=T-bkj2z3pXs\n",
      "https://www.youtube.com/watch?v=kvOPEaSymts\n",
      "https://www.youtube.com/watch?v=TWhRkBN_AUk\n",
      "https://www.youtube.com/watch?v=SKnZXQ3_u3Y\n",
      "https://www.youtube.com/watch?v=tTf4OBvcISg\n",
      "https://www.youtube.com/watch?v=hS8O087aLW0\n"
     ]
    }
   ],
   "source": [
    "for index,url in enumerate(df['url']):\n",
    "    if pd.isna(url):\n",
    "        continue\n",
    "    if index >= 20:\n",
    "        break\n",
    "    print(url)"
   ]
  }
 ],
 "metadata": {
  "kernelspec": {
   "display_name": "Python 3",
   "language": "python",
   "name": "python3"
  },
  "language_info": {
   "codemirror_mode": {
    "name": "ipython",
    "version": 3
   },
   "file_extension": ".py",
   "mimetype": "text/x-python",
   "name": "python",
   "nbconvert_exporter": "python",
   "pygments_lexer": "ipython3",
   "version": "3.12.1"
  }
 },
 "nbformat": 4,
 "nbformat_minor": 5
}
